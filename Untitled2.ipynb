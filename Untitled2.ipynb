{
 "cells": [
  {
   "cell_type": "code",
   "execution_count": 3,
   "id": "fa8f03fb-f235-47b9-a1a2-33c0002d2870",
   "metadata": {},
   "outputs": [
    {
     "ename": "NameError",
     "evalue": "name 'train_ner' is not defined",
     "output_type": "error",
     "traceback": [
      "\u001b[1;31m---------------------------------------------------------------------------\u001b[0m",
      "\u001b[1;31mNameError\u001b[0m                                 Traceback (most recent call last)",
      "\u001b[1;32m~\\AppData\\Local\\Temp\\ipykernel_14824\\2057069413.py\u001b[0m in \u001b[0;36m<module>\u001b[1;34m\u001b[0m\n\u001b[0;32m     14\u001b[0m \u001b[1;33m\u001b[0m\u001b[0m\n\u001b[0;32m     15\u001b[0m \u001b[1;31m# Train the NER model using the loaded data and extracted labels\u001b[0m\u001b[1;33m\u001b[0m\u001b[1;33m\u001b[0m\u001b[0m\n\u001b[1;32m---> 16\u001b[1;33m ner_model = train_ner(train_data=train_data,\n\u001b[0m\u001b[0;32m     17\u001b[0m                       \u001b[0mlabels\u001b[0m\u001b[1;33m=\u001b[0m\u001b[0mlabels\u001b[0m\u001b[1;33m,\u001b[0m\u001b[1;33m\u001b[0m\u001b[1;33m\u001b[0m\u001b[0m\n\u001b[0;32m     18\u001b[0m                       n_iter=10)\n",
      "\u001b[1;31mNameError\u001b[0m: name 'train_ner' is not defined"
     ]
    }
   ],
   "source": [
    "import spacy\n",
    "\n",
    "# Load the .spacy file\n",
    "train_data = list(spacy.training.read_json_file(\"data.spacy\"))\n",
    "\n",
    "# Extract the labels from the training data\n",
    "labels = set()\n",
    "for _, annotations in train_data:\n",
    "    for ent in annotations.get(\"entities\"):\n",
    "        labels.add(ent[2])\n",
    "\n",
    "# Convert labels to a list\n",
    "labels = list(labels)\n",
    "\n",
    "# Train the NER model using the loaded data and extracted labels\n",
    "ner_model = train_ner(train_data=train_data,\n",
    "                      labels=labels,\n",
    "                      n_iter=10)"
   ]
  },
  {
   "cell_type": "code",
   "execution_count": null,
   "id": "7683ec18-e868-4111-851a-87a00af1004e",
   "metadata": {},
   "outputs": [],
   "source": []
  }
 ],
 "metadata": {
  "kernelspec": {
   "display_name": "Python 3 (ipykernel)",
   "language": "python",
   "name": "python3"
  },
  "language_info": {
   "codemirror_mode": {
    "name": "ipython",
    "version": 3
   },
   "file_extension": ".py",
   "mimetype": "text/x-python",
   "name": "python",
   "nbconvert_exporter": "python",
   "pygments_lexer": "ipython3",
   "version": "3.9.13"
  }
 },
 "nbformat": 4,
 "nbformat_minor": 5
}
